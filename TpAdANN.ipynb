{
 "cells": [
  {
   "cell_type": "code",
   "execution_count": 1,
   "metadata": {
    "id": "n22ehzgEDigp"
   },
   "outputs": [],
   "source": [
    "import numpy as np\n",
    "import matplotlib.pyplot as plt\n",
    "from urllib import request\n",
    "from os.path import isfile\n",
    "import gzip\n",
    "import pickle\n",
    "import time"
   ]
  },
  {
   "cell_type": "code",
   "execution_count": 2,
   "metadata": {
    "id": "QBXrsxViDig4"
   },
   "outputs": [],
   "source": [
    "##################### MNIST dataset and labels fetcher #####################\n",
    "\n",
    "filename = [\n",
    "    [\"training_images\", \"train-images-idx3-ubyte.gz\"],\n",
    "    [\"test_images\", \"t10k-images-idx3-ubyte.gz\"],\n",
    "    [\"training_labels\", \"train-labels-idx1-ubyte.gz\"],\n",
    "    [\"test_labels\", \"t10k-labels-idx1-ubyte.gz\"]\n",
    "]\n",
    "\n",
    "def download_mnist():\n",
    "    base_url = \"http://yann.lecun.com/exdb/mnist/\"\n",
    "    for name in filename:\n",
    "        print(\"Downloading \"+name[1]+\"...\")\n",
    "        request.urlretrieve(base_url+name[1], name[1])\n",
    "    print(\"Download complete.\")\n",
    "\n",
    "def save_mnist():\n",
    "    mnist = {}\n",
    "    for name in filename[:2]:\n",
    "        with gzip.open(name[1], 'rb') as f:\n",
    "            mnist[name[0]] = np.frombuffer(\n",
    "                f.read(), np.uint8, offset=16).reshape(-1, 28*28)\n",
    "    for name in filename[-2:]:\n",
    "        with gzip.open(name[1], 'rb') as f:\n",
    "            mnist[name[0]] = np.frombuffer(f.read(), np.uint8, offset=8)\n",
    "    with open(\"mnist.pkl\", 'wb') as f:\n",
    "        pickle.dump(mnist, f)\n",
    "    print(\"Save complete.\")\n",
    "\n",
    "def is_downloaded():\n",
    "    return any(map(lambda name: isfile(name[1]), filename))\n",
    "\n",
    "def is_saved():\n",
    "    return isfile(\"mnist.pkl\")\n",
    "\n",
    "def load_mnist():\n",
    "    if not is_downloaded():\n",
    "        download_mnist()\n",
    "    if not is_saved():\n",
    "        save_mnist()\n",
    "    with open(\"mnist.pkl\", 'rb') as f:\n",
    "        mnist = pickle.load(f)\n",
    "    return mnist[\"training_images\"], mnist[\"training_labels\"], mnist[\"test_images\"], mnist[\"test_labels\"]"
   ]
  },
  {
   "cell_type": "code",
   "execution_count": 3,
   "metadata": {
    "id": "OnfzMDAKDig9"
   },
   "outputs": [],
   "source": [
    "def to_categorical(y, dim):\n",
    "    \"\"\"\n",
    "    it creates a zeros array of length 10 for each label, then puts '1' on\n",
    "    the index equals label's value.\n",
    "    ex:\n",
    "    a value of 5 is equivalent to: [0, 0, 0, 0, 0, 1, 0, 0, 0, 0]\n",
    "    \"\"\"\n",
    "    layers = np.zeros((y.shape[0], dim))\n",
    "    layers[np.arange(y.shape[0]), y] = 1\n",
    "    return layers"
   ]
  },
  {
   "cell_type": "code",
   "execution_count": 4,
   "metadata": {
    "id": "RSVGifwUjzKj"
   },
   "outputs": [],
   "source": [
    "def plotter(y_values, legend, title_name):\n",
    "    fig = plt.figure()\n",
    "    plot = fig.add_subplot(1, 1, 1)\n",
    "    plot.plot(y_values)\n",
    "    plot.set_xlim(-1, len(y_values))\n",
    "    plot.set_xticklabels(range(-1, len(y_values)+1, 2))\n",
    "    plt.legend([legend])\n",
    "    plt.title('{} Graph (values in range 0 to 1)'.format(title_name))\n",
    "    plt.xlabel('epoch')\n",
    "    plt.show()"
   ]
  },
  {
   "cell_type": "code",
   "execution_count": 5,
   "metadata": {
    "colab": {
     "base_uri": "https://localhost:8080/"
    },
    "executionInfo": {
     "elapsed": 2568,
     "status": "ok",
     "timestamp": 1612545814887,
     "user": {
      "displayName": "Abdelhai Bouaicha",
      "photoUrl": "",
      "userId": "18054985046319740110"
     },
     "user_tz": -60
    },
    "id": "Q3b3eJ5SDig5",
    "outputId": "3da13ed1-21b8-4a7e-a054-d0e2f742afc8"
   },
   "outputs": [
    {
     "name": "stdout",
     "output_type": "stream",
     "text": [
      "Downloading train-images-idx3-ubyte.gz...\n",
      "Downloading t10k-images-idx3-ubyte.gz...\n",
      "Downloading train-labels-idx1-ubyte.gz...\n",
      "Downloading t10k-labels-idx1-ubyte.gz...\n",
      "Download complete.\n",
      "Save complete.\n"
     ]
    }
   ],
   "source": [
    "##################### fetch the mnist dataset #####################\n",
    "x_train, y_train, x_test, y_test = load_mnist()"
   ]
  },
  {
   "cell_type": "code",
   "execution_count": 6,
   "metadata": {
    "id": "Yf3JsukmDig_"
   },
   "outputs": [],
   "source": [
    "# data preparation/normalization\n",
    "\n",
    "# normalize labels for easy use with the activation function with of last layer\n",
    "y_train = to_categorical(y_train, 10)\n",
    "y_test = to_categorical(y_test, 10)\n",
    "\n",
    "# we transform the dataset image to be in range 0-1 instead of 0-255\n",
    "x_train = x_train/255\n",
    "x_test = x_test/255"
   ]
  },
  {
   "cell_type": "code",
   "execution_count": 7,
   "metadata": {
    "id": "SiXhoSNmFqVJ"
   },
   "outputs": [],
   "source": [
    "def sigmoid(x):\n",
    "    return 1/(1 + np.exp(-x))\n",
    "\n",
    "def sigmoid_derivative(x):\n",
    "    return (np.exp(-x))/((np.exp(-x)+1)**2)\n",
    "\n",
    "def softmax(x): # Si\n",
    "    exps = np.exp(x - x.max())\n",
    "    return exps / np.sum(exps, axis=0)\n",
    "\n",
    "def softmax_derivative(x): # dSi = Si * (1 - Si)\n",
    "    exps = np.exp(x - x.max())\n",
    "    return exps / np.sum(exps, axis=0) * (1 - exps / np.sum(exps, axis=0))"
   ]
  },
  {
   "cell_type": "code",
   "execution_count": 8,
   "metadata": {
    "id": "7tJlH0LaF1DF"
   },
   "outputs": [],
   "source": [
    "def create_model(sizes):\n",
    "    input_layer = sizes[0]\n",
    "    hl_1 = sizes[1]\n",
    "    hl_2 = sizes[2]\n",
    "    output_layer = sizes[3]\n",
    "\n",
    "    model = {\n",
    "        'W1': np.random.randn(hl_1, input_layer) * np.sqrt(1. / hl_1),\n",
    "        'W2': np.random.randn(hl_2, hl_1) * np.sqrt(1. / hl_2),\n",
    "        'W3': np.random.randn(output_layer, hl_2) * np.sqrt(1. / output_layer),\n",
    "        'b1': np.random.randn(hl_1) * np.sqrt(1. / hl_1),\n",
    "        'b2': np.random.randn(hl_2) * np.sqrt(1. / hl_2),\n",
    "        'b3': np.random.randn(output_layer) * np.sqrt(1. / output_layer)\n",
    "    }\n",
    "\n",
    "    return model"
   ]
  },
  {
   "cell_type": "code",
   "execution_count": 9,
   "metadata": {
    "id": "PDQIRcKWGOGX"
   },
   "outputs": [],
   "source": [
    "def forward_pass(model, input_layer):\n",
    "    # input layer activations becomes sample\n",
    "    model['A0'] = input_layer\n",
    "\n",
    "    # input layer to hidden layer 1\n",
    "    model['Z1'] = np.dot(model[\"W1\"], model['A0']) + model[\"b1\"]\n",
    "    model['A1'] = sigmoid(model['Z1'])\n",
    "\n",
    "    # hidden layer 1 to hidden layer 2\n",
    "    model['Z2'] = np.dot(model[\"W2\"], model['A1']) + model[\"b2\"]\n",
    "    model['A2'] = sigmoid(model['Z2'])\n",
    "\n",
    "    # hidden layer 2 to output layer\n",
    "    model['Z3'] = np.dot(model[\"W3\"], model['A2']) + model[\"b3\"]\n",
    "    model['A3'] = softmax(model['Z3'])\n",
    "\n",
    "    return model['A3']"
   ]
  },
  {
   "cell_type": "code",
   "execution_count": 10,
   "metadata": {
    "id": "gpbshshQII8O"
   },
   "outputs": [],
   "source": [
    "def backward_pass(model, y_train, output):\n",
    "    change_w = {}\n",
    "\n",
    "    # Calculate W3 update\n",
    "    error = 2 * (output - y_train) / output.shape[0] * softmax_derivative(model['Z3'])\n",
    "    change_w['W3'] = np.outer(error, model['A2'])\n",
    "    change_w['b3'] = error\n",
    "\n",
    "    # Calculate W2 update\n",
    "    error = np.dot(model['W3'].T, error) * sigmoid_derivative(model['Z2'])\n",
    "    change_w['W2'] = np.outer(error, model['A1'])\n",
    "    change_w['b2'] = error\n",
    "\n",
    "    # Calculate W1 update\n",
    "    error = np.dot(model['W2'].T, error) * sigmoid_derivative(model['Z1'])\n",
    "    change_w['W1'] = np.outer(error, model['A0'])\n",
    "    change_w['b1'] = error\n",
    "\n",
    "    return change_w"
   ]
  },
  {
   "cell_type": "code",
   "execution_count": 11,
   "metadata": {
    "id": "rTtcnM-lIEQ5"
   },
   "outputs": [],
   "source": [
    "def update_parameters(model, changes_to_w, learning_rate):\n",
    "    for key, value in changes_to_w.items():\n",
    "        model[key] -= learning_rate * value"
   ]
  },
  {
   "cell_type": "code",
   "execution_count": 12,
   "metadata": {
    "id": "2mza3OvmJQRl"
   },
   "outputs": [],
   "source": [
    "def evaluate_model(model, x_test, y_test):\n",
    "    accuracy = []\n",
    "    losses = []\n",
    "\n",
    "    for x, y in zip(x_test, y_test):\n",
    "        output = forward_pass(model, x)\n",
    "\n",
    "        accu = np.argmax(output)\n",
    "        loss = y - output\n",
    "\n",
    "        accuracy.append(accu == np.argmax(y))\n",
    "        losses.append(np.linalg.norm(loss, 2))\n",
    "\n",
    "    return np.mean(accuracy), np.mean(losses)"
   ]
  },
  {
   "cell_type": "code",
   "execution_count": 13,
   "metadata": {
    "id": "Abus9AjaKtX5"
   },
   "outputs": [],
   "source": [
    "def train(model, x_train, y_train, x_test, y_test, epochs=10, learning_rate=0.01):\n",
    "    history = {\n",
    "        \"loss\": [],\n",
    "        \"accuracy\": []\n",
    "    }\n",
    "    start_time = time.time()\n",
    "    for iteration in range(epochs):\n",
    "        for x,y in zip(x_train, y_train):\n",
    "            output = forward_pass(model, x)\n",
    "            changes_to_w = backward_pass(model, y, output)\n",
    "            update_parameters(model, changes_to_w, learning_rate)\n",
    "\n",
    "        accuracy, loss = evaluate_model(model, x_test, y_test)\n",
    "        history[\"accuracy\"].append(accuracy)\n",
    "        history[\"loss\"].append(loss)\n",
    "        print('Epoch: {0}, Spent time: {1:.2f}s, Accuracy: {2:.2f}%, Loss: {3:.2f}%'.format(\n",
    "            iteration+1, time.time() - start_time, accuracy * 100, loss * 100\n",
    "        ))\n",
    "    return history"
   ]
  },
  {
   "cell_type": "code",
   "execution_count": null,
   "metadata": {
    "colab": {
     "base_uri": "https://localhost:8080/"
    },
    "executionInfo": {
     "elapsed": 929600,
     "status": "ok",
     "timestamp": 1612552861218,
     "user": {
      "displayName": "Abdelhai Bouaicha",
      "photoUrl": "",
      "userId": "18054985046319740110"
     },
     "user_tz": -60
    },
    "id": "6qYU8NtDVY-S",
    "outputId": "7ac432d9-ca7c-48f6-df21-e25c31fb72bb"
   },
   "outputs": [
    {
     "name": "stdout",
     "output_type": "stream",
     "text": [
      "Epoch: 1, Spent time: 36.59s, Accuracy: 48.11%, Loss: 80.87%\n",
      "Epoch: 2, Spent time: 73.67s, Accuracy: 63.07%, Loss: 72.19%\n",
      "Epoch: 3, Spent time: 112.21s, Accuracy: 73.19%, Loss: 65.73%\n",
      "Epoch: 4, Spent time: 149.16s, Accuracy: 75.92%, Loss: 58.05%\n"
     ]
    }
   ],
   "source": [
    "model = create_model([784, 128, 64, 10])\n",
    "history = train(model, x_train, y_train, x_test, y_test, 17)"
   ]
  },
  {
   "cell_type": "code",
   "execution_count": null,
   "metadata": {
    "colab": {
     "base_uri": "https://localhost:8080/",
     "height": 294
    },
    "executionInfo": {
     "elapsed": 732,
     "status": "ok",
     "timestamp": 1612548813720,
     "user": {
      "displayName": "Abdelhai Bouaicha",
      "photoUrl": "",
      "userId": "18054985046319740110"
     },
     "user_tz": -60
    },
    "id": "ORbeTJU3Fc-5",
    "outputId": "fea61ba3-6d1c-4946-f071-dbd9ff0fae37"
   },
   "outputs": [],
   "source": [
    "##################### accuracy plot #####################\n",
    "\n",
    "plotter(history['accuracy'], 'accuracy', 'Accuracy')"
   ]
  },
  {
   "cell_type": "code",
   "execution_count": null,
   "metadata": {
    "colab": {
     "base_uri": "https://localhost:8080/",
     "height": 294
    },
    "executionInfo": {
     "elapsed": 890,
     "status": "ok",
     "timestamp": 1612548863151,
     "user": {
      "displayName": "Abdelhai Bouaicha",
      "photoUrl": "",
      "userId": "18054985046319740110"
     },
     "user_tz": -60
    },
    "id": "ZvAIZM7bZLlz",
    "outputId": "1237dc8c-4909-47e7-fdf9-cca710173d3d"
   },
   "outputs": [],
   "source": [
    "##################### loss plot #####################\n",
    "\n",
    "plotter(history['loss'], 'loss', 'Loss')"
   ]
  },
  {
   "cell_type": "code",
   "execution_count": null,
   "metadata": {
    "colab": {
     "base_uri": "https://localhost:8080/",
     "height": 282
    },
    "executionInfo": {
     "elapsed": 749,
     "status": "ok",
     "timestamp": 1612548911672,
     "user": {
      "displayName": "Abdelhai Bouaicha",
      "photoUrl": "",
      "userId": "18054985046319740110"
     },
     "user_tz": -60
    },
    "id": "Id9n-MbYBj8p",
    "outputId": "40870aad-e6a8-481c-fa2c-a3b45e568ac4"
   },
   "outputs": [
    {
     "name": "stdout",
     "output_type": "stream",
     "text": [
      "label is: 2\n",
      "expected: 2\n"
     ]
    },
    {
     "data": {
      "image/png": "[encoded data removed]",
      "text/plain": [
       "<Figure size 432x288 with 1 Axes>"
      ]
     },
     "metadata": {
      "needs_background": "light",
      "tags": []
     },
     "output_type": "display_data"
    }
   ],
   "source": [
    "##################### manual testing #####################\n",
    "\n",
    "# change this number in range 0 to 9999 to test different images\n",
    "selected_index = 892\n",
    "\n",
    "print(\"label is: {}\".format(np.argmax(y_test[selected_index]))) # selected label\n",
    "print(\"expected: {}\".format(np.argmax(forward_pass(model, x_test[selected_index]))))\n",
    "\n",
    "img = x_test[selected_index].reshape(28,28)\n",
    "plt.imshow(img,cmap='gray')\n",
    "plt.axis('off')\n",
    "plt.show() # Show the image"
   ]
  },
  {
   "cell_type": "code",
   "execution_count": null,
   "metadata": {
    "id": "eJLrB-w4UdPR"
   },
   "outputs": [],
   "source": []
  }
 ],
 "metadata": {
  "colab": {
   "collapsed_sections": [],
   "name": "TpAdANN",
   "provenance": [
    {
     "file_id": "1CR5vrd4eoXbYxGZL0Mh6GV7eKoziwmDI",
     "timestamp": 1612558618102
    },
    {
     "file_id": "1dz6C1S5p4cAxg4SMVBTOlZ2CDlgnmeh-",
     "timestamp": 1612004168400
    },
    {
     "file_id": "1iGQmDO6j5uUkMQsOSEC3mmwmxV3mevR2",
     "timestamp": 1611905529437
    }
   ]
  },
  "kernelspec": {
   "display_name": "Python 3",
   "language": "python",
   "name": "python3"
  },
  "language_info": {
   "codemirror_mode": {
    "name": "ipython",
    "version": 3
   },
   "file_extension": ".py",
   "mimetype": "text/x-python",
   "name": "python",
   "nbconvert_exporter": "python",
   "pygments_lexer": "ipython3",
   "version": "3.9.1"
  }
 },
 "nbformat": 4,
 "nbformat_minor": 1
}
